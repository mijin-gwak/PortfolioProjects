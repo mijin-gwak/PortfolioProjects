{
 "cells": [
  {
   "cell_type": "code",
   "execution_count": 1,
   "id": "e34b6c79",
   "metadata": {},
   "outputs": [],
   "source": [
    "# Import libraries\n",
    "\n",
    "from bs4 import BeautifulSoup\n",
    "import requests\n",
    "import smtplib\n",
    "import time\n",
    "import datetime\n",
    "import csv\n",
    "import datetime\n",
    "import pandas as pd\n",
    "import threading\n"
   ]
  },
  {
   "cell_type": "code",
   "execution_count": 2,
   "id": "2c206fee",
   "metadata": {},
   "outputs": [
    {
     "name": "stdout",
     "output_type": "stream",
     "text": [
      "Tamisom Halterrek Stand, 2 Tier Gewichtsrek voor Home Gym Dumbbell Storage, Alleen rek, 32,5 \"x24,5 \"X4.4\"\n",
      "€193,82\n"
     ]
    }
   ],
   "source": [
    "# Connect to website\n",
    "URL = 'https://www.amazon.nl/Tamisom-Halterrek-Gewichtsrek-Dumbbell-Storage/dp/B0B5MSGCP9/ref=sr_1_3_mod_primary_new?crid=3V4SAO5OV5OSF&keywords=dumbbells+rek+alleen&qid=1701077744&refinements=p_72%3A4993218031&rnid=4993217031&sbo=RZvfv%2F%2FHxDF%2BO5021pAnSA%3D%3D&sprefix=%2Caps%2C160&sr=8-3'\n",
    "\n",
    "# User-Agent: https://httpbin.org/get\n",
    "headers = {\n",
    "    'User-Agent': 'Mozilla/5.0 (Windows NT 10.0; Win64; x64) AppleWebKit/537.36 (KHTML, like Gecko) Chrome/119.0.0.0 Safari/537.36'\n",
    "}\n",
    "\n",
    "page = requests.get(URL, headers=headers)\n",
    "\n",
    "soup1 = BeautifulSoup(page.content, 'html.parser')\n",
    "\n",
    "soup2 = BeautifulSoup(soup1.prettify(), 'html.parser')\n",
    "\n",
    "title = soup2.find(id='productTitle').get_text(strip=True)\n",
    "\n",
    "price_element = soup2.find('span', class_='a-price')\n",
    "price = price_element.find('span', class_='a-offscreen').get_text(strip=True)\n",
    "\n",
    "print(title)\n",
    "print(price)\n"
   ]
  },
  {
   "cell_type": "code",
   "execution_count": 3,
   "id": "4acb7041",
   "metadata": {},
   "outputs": [],
   "source": [
    "# remove the euro sign\n",
    "price = price[1:]"
   ]
  },
  {
   "cell_type": "code",
   "execution_count": 4,
   "id": "73aa2295",
   "metadata": {},
   "outputs": [
    {
     "name": "stdout",
     "output_type": "stream",
     "text": [
      "2023-12-13\n"
     ]
    }
   ],
   "source": [
    "today = datetime.date.today()\n",
    "\n",
    "print(today)"
   ]
  },
  {
   "cell_type": "code",
   "execution_count": 5,
   "id": "358a810e",
   "metadata": {},
   "outputs": [],
   "source": [
    "header = ['Title', 'Price', 'Date']\n",
    "data = [title, price, today]\n",
    "\n",
    "#Ran the following once, commenting them out not so that it does not reset\n",
    "\n",
    "#with open('WebScraperDataset.csv', 'w', newline='', encoding='UTF8') as f:\n",
    "    #writer = csv.writer(f)\n",
    "    #writer.writerow(data)"
   ]
  },
  {
   "cell_type": "code",
   "execution_count": 6,
   "id": "9c444f06",
   "metadata": {
    "scrolled": true
   },
   "outputs": [
    {
     "name": "stdout",
     "output_type": "stream",
     "text": [
      "Empty DataFrame\n",
      "Columns: [Tamisom Halterrek Stand, 2 Tier Gewichtsrek voor Home Gym Dumbbell Storage, Alleen rek, 32,5 \"x24,5 \"X4.4\", 193,82, 2023-12-13]\n",
      "Index: []\n"
     ]
    }
   ],
   "source": [
    "df = pd.read_csv(r'C:\\Users\\krijn\\WebScraperDataset.csv')\n",
    "print(df)"
   ]
  },
  {
   "cell_type": "code",
   "execution_count": 7,
   "id": "0825434a",
   "metadata": {},
   "outputs": [],
   "source": [
    "# Appending data to the csv file\n",
    "\n",
    "with open('WebScraperDataset.csv', 'a', newline='', encoding='UTF8') as f:\n",
    "    writer = csv.writer(f)\n",
    "    writer.writerow(data)"
   ]
  },
  {
   "cell_type": "code",
   "execution_count": 8,
   "id": "4c31e43b",
   "metadata": {},
   "outputs": [],
   "source": [
    "# Send me an email if price is below a set price!\n",
    "\n",
    "def send_email():\n",
    "    server = smtplib.SMTP_SSL('smtp.gmail.com',465)\n",
    "    server.ehlo()\n",
    "    #server.starttls()\n",
    "    server.ehlo()\n",
    "    server.login('mijin.gwak@outlook.com','xxxxxxxxxxxxxx')\n",
    "    \n",
    "    subject = \"The dumbbell rack you want is below €100! Now is your chance to buy!\"\n",
    "    body = \"Mijin, This is the moment we have been waiting for. Now is your chance to pick up the shirt of your dreams. Don't mess it up! Link here: https://www.amazon.nl/Tamisom-Halterrek-Gewichtsrek-Dumbbell-Storage/dp/B0B5MSGCP9/ref=sr_1_3_mod_primary_new?crid=3V4SAO5OV5OSF&keywords=dumbbells+rek+alleen&qid=1701077744&refinements=p_72%3A4993218031&rnid=4993217031&sbo=RZvfv%2F%2FHxDF%2BO5021pAnSA%3D%3D&sprefix=%2Caps%2C160&sr=8-3\"\n",
    "   \n",
    "    msg = f\"Subject: {subject}\\n\\n{body}\"\n",
    "    \n",
    "    server.sendmail(\n",
    "        'mijin.gwak@outlook.com',\n",
    "        msg\n",
    "     \n",
    "    )"
   ]
  },
  {
   "cell_type": "code",
   "execution_count": 9,
   "id": "5f8026e5",
   "metadata": {},
   "outputs": [],
   "source": [
    "# Automate checking the price each day by combining all of the above code into one function\n",
    "\n",
    "def check_price():\n",
    "    URL = 'https://www.amazon.nl/Tamisom-Halterrek-Gewichtsrek-Dumbbell-Storage/dp/B0B5MSGCP9/ref=sr_1_3_mod_primary_new?crid=3V4SAO5OV5OSF&keywords=dumbbells+rek+alleen&qid=1701077744&refinements=p_72%3A4993218031&rnid=4993217031&sbo=RZvfv%2F%2FHxDF%2BO5021pAnSA%3D%3D&sprefix=%2Caps%2C160&sr=8-3'\n",
    "\n",
    "    headers = {\n",
    "        'User-Agent': 'Mozilla/5.0 (Windows NT 10.0; Win64; x64) AppleWebKit/537.36 (KHTML, like Gecko) Chrome/119.0.0.0 Safari/537.36'\n",
    "    }\n",
    "\n",
    "    page = requests.get(URL, headers=headers)\n",
    "\n",
    "    soup1 = BeautifulSoup(page.content, 'html.parser')\n",
    "\n",
    "    soup2 = BeautifulSoup(soup1.prettify(), 'html.parser')\n",
    "\n",
    "    title = soup2.find(id='productTitle').get_text(strip=True)\n",
    "\n",
    "    price_element = soup2.find('span', class_='a-price')\n",
    "    price = price_element.find('span', class_='a-offscreen').get_text(strip=True)\n",
    "    \n",
    "    # \\Removing the euro sign replacing , with . so that it can be converted it into a float\n",
    "    price = float(price[1:].replace(',', '')) \n",
    "    today = datetime.date.today()\n",
    "    \n",
    "    header = ['Title', 'Price', 'Date']\n",
    "    data = [title, price, today]\n",
    "    \n",
    "    with open('WebScraperDataset.csv', 'a', newline='', encoding='UTF8') as f:\n",
    "        writer = csv.writer(f)\n",
    "        writer.writerow(data)\n",
    "        \n",
    "    if(price < 100):\n",
    "        send_email() # If it is cheaper than 100 euros then send me an email!!\n",
    "    "
   ]
  },
  {
   "cell_type": "code",
   "execution_count": null,
   "id": "c68335c0",
   "metadata": {},
   "outputs": [],
   "source": [
    "# Run until the stop_flag is True\n",
    "\n",
    "stop_flag = False\n",
    "\n",
    "while not stop_flag:\n",
    "    check_price()\n",
    "    time.sleep(86400)  # Run every 24 hours"
   ]
  },
  {
   "cell_type": "code",
   "execution_count": null,
   "id": "a2f2cb8f",
   "metadata": {},
   "outputs": [],
   "source": [
    "# Change the stop_flag to True so that the loop stops running\n",
    "#stop_flag = True"
   ]
  }
 ],
 "metadata": {
  "kernelspec": {
   "display_name": "Python 3 (ipykernel)",
   "language": "python",
   "name": "python3"
  },
  "language_info": {
   "codemirror_mode": {
    "name": "ipython",
    "version": 3
   },
   "file_extension": ".py",
   "mimetype": "text/x-python",
   "name": "python",
   "nbconvert_exporter": "python",
   "pygments_lexer": "ipython3",
   "version": "3.11.5"
  }
 },
 "nbformat": 4,
 "nbformat_minor": 5
}
